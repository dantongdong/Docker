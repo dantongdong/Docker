{
 "cells": [
  {
   "cell_type": "code",
   "execution_count": 1,
   "id": "2eb70522",
   "metadata": {},
   "outputs": [],
   "source": [
    "import os\n",
    "from pyspark import SparkContext, SparkConf, SparkFiles"
   ]
  },
  {
   "cell_type": "code",
   "execution_count": 2,
   "id": "9de1c922",
   "metadata": {},
   "outputs": [
    {
     "name": "stderr",
     "output_type": "stream",
     "text": [
      "21/12/02 01:18:21 WARN NativeCodeLoader: Unable to load native-hadoop library for your platform... using builtin-java classes where applicable\n",
      "Using Spark's default log4j profile: org/apache/spark/log4j-defaults.properties\n",
      "Setting default log level to \"WARN\".\n",
      "To adjust logging level use sc.setLogLevel(newLevel). For SparkR, use setLogLevel(newLevel).\n",
      "                                                                                \r"
     ]
    }
   ],
   "source": [
    "conf = SparkConf()\n",
    "sc = SparkContext.getOrCreate(conf=conf)\n",
    "stopWords = [\"they\", \"she\", \"he\", \"it\", \"the\", \"as\", \"if\", \"and\", \"\"]\n",
    "terms = None\n",
    "\n",
    "files = sc.textFile(\"fileList.txt\")\n",
    "allFile = files.collect()\n",
    "for filePath in allFile:\n",
    "    try:\n",
    "        words = sc.textFile(filePath).flatMap(lambda line: line.split(\" \")).filter(lambda word: word not in stopWords)\n",
    "        wordCounts = words.map(lambda word: (word, 1)).reduceByKey(lambda a, b: a + b)\n",
    "        word4File = wordCounts.mapValues(lambda count: filePath + \" \" + str(count))\n",
    "        if not terms:\n",
    "            terms = word4File\n",
    "        else:\n",
    "            terms = terms.union(word4File)\n",
    "    except:\n",
    "        continue\n",
    "\n",
    "terms.saveAsTextFile(\"searchTerm\")"
   ]
  },
  {
   "cell_type": "code",
   "execution_count": null,
   "id": "2ed86182",
   "metadata": {},
   "outputs": [],
   "source": []
  }
 ],
 "metadata": {
  "kernelspec": {
   "display_name": "Python 3 (ipykernel)",
   "language": "python",
   "name": "python3"
  },
  "language_info": {
   "codemirror_mode": {
    "name": "ipython",
    "version": 3
   },
   "file_extension": ".py",
   "mimetype": "text/x-python",
   "name": "python",
   "nbconvert_exporter": "python",
   "pygments_lexer": "ipython3",
   "version": "3.9.7"
  }
 },
 "nbformat": 4,
 "nbformat_minor": 5
}
